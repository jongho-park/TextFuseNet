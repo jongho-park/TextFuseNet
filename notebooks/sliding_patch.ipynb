{
 "cells": [
  {
   "cell_type": "code",
   "execution_count": 40,
   "id": "naval-dispatch",
   "metadata": {},
   "outputs": [],
   "source": [
    "import os\n",
    "import os.path as osp\n",
    "import math\n",
    "import sys\n",
    "from glob import glob\n",
    "from itertools import product\n",
    "\n",
    "import cv2\n",
    "import matplotlib.pyplot as plt\n",
    "import numpy.random as npr\n",
    "from imageio import imread, imwrite\n",
    "from tqdm import tqdm\n",
    "\n",
    "%matplotlib inline"
   ]
  },
  {
   "cell_type": "code",
   "execution_count": 34,
   "id": "modular-samuel",
   "metadata": {},
   "outputs": [],
   "source": [
    "input_image_dir = '../input_images'\n",
    "output_patch_dir = '../input_images/sliding_patches'\n",
    "if not osp.exists(output_patch_dir):\n",
    "    os.makedirs(output_patch_dir)"
   ]
  },
  {
   "cell_type": "code",
   "execution_count": 32,
   "id": "muslim-symposium",
   "metadata": {},
   "outputs": [],
   "source": [
    "image_fpaths = glob(osp.join(input_image_dir, '*.jpg')) + glob(osp.join(input_image_dir, '*.png'))"
   ]
  },
  {
   "cell_type": "code",
   "execution_count": 53,
   "id": "characteristic-triple",
   "metadata": {},
   "outputs": [
    {
     "name": "stdout",
     "output_type": "stream",
     "text": [
      "Sample: 20210308_141448 | Size: (3404, 2408)\n",
      "\tPatch location (h, w): (2904:3404, 1408:2408)\n",
      "Sample: 20210308_141321 | Size: (3388, 2348)\n",
      "\tPatch location (h, w): (2888:3388, 1348:2348)\n",
      "Sample: 20210308_141432 | Size: (1852, 1820)\n",
      "\tPatch location (h, w): (1352:1852, 820:1820)\n",
      "Sample: 20210308_141348 | Size: (3556, 2520)\n",
      "\tPatch location (h, w): (3056:3556, 1520:2520)\n",
      "Sample: 20210308_141338 | Size: (3572, 2552)\n",
      "\tPatch location (h, w): (3072:3572, 1552:2552)\n",
      "Sample: 20210308_141223 | Size: (3460, 2444)\n",
      "\tPatch location (h, w): (2960:3460, 1444:2444)\n"
     ]
    }
   ],
   "source": [
    "WS = (500, 1000)   # Window size (h, w)\n",
    "ST = (400, 500)  # Stride (h, w)\n",
    "\n",
    "for fpath in image_fpaths:\n",
    "    sample_name = osp.splitext(osp.basename(fpath))[0]\n",
    "    \n",
    "    img = imread(fpath)\n",
    "    ih, iw = img.shape[:2]\n",
    "\n",
    "    print('Sample: {} | Size: ({}, {})'.format(sample_name, ih, iw))\n",
    "    \n",
    "    for h_idx, w_idx in product(range(math.ceil((ih - WS[0]) / ST[0]) + 1), range(math.ceil((iw - WS[1]) / ST[1]) + 1)):\n",
    "        h_start, w_start = min(h_idx * ST[0], ih - WS[0]), min(w_idx * ST[1], iw - WS[1])\n",
    "        h_end, w_end = min(h_start + WS[0], ih), min(w_start + WS[1], iw)\n",
    "        \n",
    "        sys.stdout.write('\\r\\tPatch location (h, w): ({}:{}, {}:{})'.format(h_start, h_end, w_start, w_end))\n",
    "        \n",
    "        patch_fpath = osp.join(output_patch_dir, '{}({:02d}-{:02d}).jpg'.format(sample_name, h_idx, w_idx))\n",
    "        imwrite(patch_fpath, img[h_start:h_end, w_start:w_end, :])\n",
    "    print('')"
   ]
  }
 ],
 "metadata": {
  "kernelspec": {
   "display_name": "Python 3",
   "language": "python",
   "name": "python3"
  },
  "language_info": {
   "codemirror_mode": {
    "name": "ipython",
    "version": 3
   },
   "file_extension": ".py",
   "mimetype": "text/x-python",
   "name": "python",
   "nbconvert_exporter": "python",
   "pygments_lexer": "ipython3",
   "version": "3.7.3"
  }
 },
 "nbformat": 4,
 "nbformat_minor": 5
}
